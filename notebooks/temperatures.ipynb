{
 "cells": [
  {
   "cell_type": "code",
   "id": "initial_id",
   "metadata": {
    "collapsed": true,
    "ExecuteTime": {
     "end_time": "2025-05-08T06:50:02.282157Z",
     "start_time": "2025-05-08T06:50:02.268991Z"
    }
   },
   "source": [
    "import polars as pl\n",
    "import pendulum\n",
    "\n",
    "\n",
    "df = pl.read_parquet(\"../_temp/1.parquet\").sort('RecordedFor')"
   ],
   "outputs": [],
   "execution_count": 26
  },
  {
   "metadata": {
    "ExecuteTime": {
     "end_time": "2025-05-08T06:50:03.882754Z",
     "start_time": "2025-05-08T06:50:03.877848Z"
    }
   },
   "cell_type": "code",
   "source": "df",
   "id": "3af2962f27f1d58d",
   "outputs": [
    {
     "data": {
      "text/plain": [
       "shape: (381, 5)\n",
       "┌─────────────────────────┬──────────────────────┬─────────────┬───────────────┬───────────────┐\n",
       "│ Locale                  ┆ RecordedAt           ┆ RecordedFor ┆ Min           ┆ Max           │\n",
       "│ ---                     ┆ ---                  ┆ ---         ┆ ---           ┆ ---           │\n",
       "│ str                     ┆ datetime[μs,         ┆ date        ┆ decimal[38,0] ┆ decimal[38,0] │\n",
       "│                         ┆ Pacific/Auckland]    ┆             ┆               ┆               │\n",
       "╞═════════════════════════╪══════════════════════╪═════════════╪═══════════════╪═══════════════╡\n",
       "│ Fydoro Folly            ┆ 2025-01-02           ┆ 2025-01-01  ┆ null          ┆ null          │\n",
       "│                         ┆ 10:27:18.657836 NZD… ┆             ┆               ┆               │\n",
       "│ Siroccoscape            ┆ 2025-01-02           ┆ 2025-01-01  ┆ null          ┆ null          │\n",
       "│                         ┆ 10:27:30.773218 NZD… ┆             ┆               ┆               │\n",
       "│ Wivenhoe Garden Portico ┆ 2025-01-02           ┆ 2025-01-01  ┆ null          ┆ null          │\n",
       "│                         ┆ 10:27:38.578226 NZD… ┆             ┆               ┆               │\n",
       "│ Fydoro Folly            ┆ 2025-01-03           ┆ 2025-01-02  ┆ null          ┆ null          │\n",
       "│                         ┆ 09:35:41.519573 NZD… ┆             ┆               ┆               │\n",
       "│ Siroccoscape            ┆ 2025-01-03           ┆ 2025-01-02  ┆ null          ┆ null          │\n",
       "│                         ┆ 09:35:50.220806 NZD… ┆             ┆               ┆               │\n",
       "│ …                       ┆ …                    ┆ …           ┆ …             ┆ …             │\n",
       "│ Siroccoscape            ┆ 2025-05-08           ┆ 2025-05-06  ┆ null          ┆ null          │\n",
       "│                         ┆ 08:31:29.560579 NZS… ┆             ┆               ┆               │\n",
       "│ Wivenhoe Garden Portico ┆ 2025-05-08           ┆ 2025-05-06  ┆ null          ┆ null          │\n",
       "│                         ┆ 08:32:06.148793 NZS… ┆             ┆               ┆               │\n",
       "│ Fydoro Folly            ┆ 2025-05-08           ┆ 2025-05-07  ┆ null          ┆ null          │\n",
       "│                         ┆ 10:10:50.488480 NZS… ┆             ┆               ┆               │\n",
       "│ Siroccoscape            ┆ 2025-05-08           ┆ 2025-05-07  ┆ null          ┆ null          │\n",
       "│                         ┆ 10:10:35.726747 NZS… ┆             ┆               ┆               │\n",
       "│ Wivenhoe Garden Portico ┆ 2025-05-08           ┆ 2025-05-07  ┆ null          ┆ null          │\n",
       "│                         ┆ 10:11:04.681296 NZS… ┆             ┆               ┆               │\n",
       "└─────────────────────────┴──────────────────────┴─────────────┴───────────────┴───────────────┘"
      ],
      "text/html": [
       "<div><style>\n",
       ".dataframe > thead > tr,\n",
       ".dataframe > tbody > tr {\n",
       "  text-align: right;\n",
       "  white-space: pre-wrap;\n",
       "}\n",
       "</style>\n",
       "<small>shape: (381, 5)</small><table border=\"1\" class=\"dataframe\"><thead><tr><th>Locale</th><th>RecordedAt</th><th>RecordedFor</th><th>Min</th><th>Max</th></tr><tr><td>str</td><td>datetime[μs, Pacific/Auckland]</td><td>date</td><td>decimal[38,0]</td><td>decimal[38,0]</td></tr></thead><tbody><tr><td>&quot;Fydoro Folly&quot;</td><td>2025-01-02 10:27:18.657836 NZDT</td><td>2025-01-01</td><td>null</td><td>null</td></tr><tr><td>&quot;Siroccoscape&quot;</td><td>2025-01-02 10:27:30.773218 NZDT</td><td>2025-01-01</td><td>null</td><td>null</td></tr><tr><td>&quot;Wivenhoe Garden Portico&quot;</td><td>2025-01-02 10:27:38.578226 NZDT</td><td>2025-01-01</td><td>null</td><td>null</td></tr><tr><td>&quot;Fydoro Folly&quot;</td><td>2025-01-03 09:35:41.519573 NZDT</td><td>2025-01-02</td><td>null</td><td>null</td></tr><tr><td>&quot;Siroccoscape&quot;</td><td>2025-01-03 09:35:50.220806 NZDT</td><td>2025-01-02</td><td>null</td><td>null</td></tr><tr><td>&hellip;</td><td>&hellip;</td><td>&hellip;</td><td>&hellip;</td><td>&hellip;</td></tr><tr><td>&quot;Siroccoscape&quot;</td><td>2025-05-08 08:31:29.560579 NZST</td><td>2025-05-06</td><td>null</td><td>null</td></tr><tr><td>&quot;Wivenhoe Garden Portico&quot;</td><td>2025-05-08 08:32:06.148793 NZST</td><td>2025-05-06</td><td>null</td><td>null</td></tr><tr><td>&quot;Fydoro Folly&quot;</td><td>2025-05-08 10:10:50.488480 NZST</td><td>2025-05-07</td><td>null</td><td>null</td></tr><tr><td>&quot;Siroccoscape&quot;</td><td>2025-05-08 10:10:35.726747 NZST</td><td>2025-05-07</td><td>null</td><td>null</td></tr><tr><td>&quot;Wivenhoe Garden Portico&quot;</td><td>2025-05-08 10:11:04.681296 NZST</td><td>2025-05-07</td><td>null</td><td>null</td></tr></tbody></table></div>"
      ]
     },
     "execution_count": 27,
     "metadata": {},
     "output_type": "execute_result"
    }
   ],
   "execution_count": 27
  },
  {
   "metadata": {
    "ExecuteTime": {
     "end_time": "2025-05-08T06:50:05.918101Z",
     "start_time": "2025-05-08T06:50:05.913724Z"
    }
   },
   "cell_type": "code",
   "source": "df.group_by(pl.col('Locale')).len()",
   "id": "d06620ebc7578734",
   "outputs": [
    {
     "data": {
      "text/plain": [
       "shape: (3, 2)\n",
       "┌─────────────────────────┬─────┐\n",
       "│ Locale                  ┆ len │\n",
       "│ ---                     ┆ --- │\n",
       "│ str                     ┆ u32 │\n",
       "╞═════════════════════════╪═════╡\n",
       "│ Wivenhoe Garden Portico ┆ 127 │\n",
       "│ Fydoro Folly            ┆ 127 │\n",
       "│ Siroccoscape            ┆ 127 │\n",
       "└─────────────────────────┴─────┘"
      ],
      "text/html": [
       "<div><style>\n",
       ".dataframe > thead > tr,\n",
       ".dataframe > tbody > tr {\n",
       "  text-align: right;\n",
       "  white-space: pre-wrap;\n",
       "}\n",
       "</style>\n",
       "<small>shape: (3, 2)</small><table border=\"1\" class=\"dataframe\"><thead><tr><th>Locale</th><th>len</th></tr><tr><td>str</td><td>u32</td></tr></thead><tbody><tr><td>&quot;Wivenhoe Garden Portico&quot;</td><td>127</td></tr><tr><td>&quot;Fydoro Folly&quot;</td><td>127</td></tr><tr><td>&quot;Siroccoscape&quot;</td><td>127</td></tr></tbody></table></div>"
      ]
     },
     "execution_count": 28,
     "metadata": {},
     "output_type": "execute_result"
    }
   ],
   "execution_count": 28
  },
  {
   "metadata": {
    "ExecuteTime": {
     "end_time": "2025-05-08T06:21:30.699010Z",
     "start_time": "2025-05-08T06:21:30.691773Z"
    }
   },
   "cell_type": "code",
   "source": [
    "sirocco = \"Siroccoscape\"\n",
    "fydoro = \"Fydoro Folly\"\n",
    "portico = \"Wivenhoe Garden Portico\"\n",
    "# df.filter(pl.col('Locale') == sirocco)\n",
    "# df.group_by(pl.col('RecordedFor')).len().filter(pl.col('len') != 3)\n",
    "df.filter(pl.col('RecordedFor') == pendulum.parse(\"2025-03-29\"))"
   ],
   "id": "967be392693542a9",
   "outputs": [
    {
     "data": {
      "text/plain": [
       "shape: (5, 5)\n",
       "┌─────────────────────────┬──────────────────────┬─────────────┬───────────────┬───────────────┐\n",
       "│ Locale                  ┆ RecordedAt           ┆ RecordedFor ┆ Min           ┆ Max           │\n",
       "│ ---                     ┆ ---                  ┆ ---         ┆ ---           ┆ ---           │\n",
       "│ str                     ┆ datetime[μs,         ┆ date        ┆ decimal[38,0] ┆ decimal[38,0] │\n",
       "│                         ┆ Pacific/Auckland]    ┆             ┆               ┆               │\n",
       "╞═════════════════════════╪══════════════════════╪═════════════╪═══════════════╪═══════════════╡\n",
       "│ Siroccoscape            ┆ null                 ┆ 2025-03-29  ┆ null          ┆ null          │\n",
       "│ Fydoro Folly            ┆ 2025-03-30           ┆ 2025-03-29  ┆ null          ┆ null          │\n",
       "│                         ┆ 08:15:48.826514 NZD… ┆             ┆               ┆               │\n",
       "│ Fydoro Folly            ┆ 2025-03-30           ┆ 2025-03-29  ┆ null          ┆ null          │\n",
       "│                         ┆ 09:57:05.770927 NZD… ┆             ┆               ┆               │\n",
       "│ Wivenhoe Garden Portico ┆ 2025-03-30           ┆ 2025-03-29  ┆ null          ┆ null          │\n",
       "│                         ┆ 08:16:30.999016 NZD… ┆             ┆               ┆               │\n",
       "│ Wivenhoe Garden Portico ┆ 2025-03-30           ┆ 2025-03-29  ┆ null          ┆ null          │\n",
       "│                         ┆ 09:57:21.769332 NZD… ┆             ┆               ┆               │\n",
       "└─────────────────────────┴──────────────────────┴─────────────┴───────────────┴───────────────┘"
      ],
      "text/html": [
       "<div><style>\n",
       ".dataframe > thead > tr,\n",
       ".dataframe > tbody > tr {\n",
       "  text-align: right;\n",
       "  white-space: pre-wrap;\n",
       "}\n",
       "</style>\n",
       "<small>shape: (5, 5)</small><table border=\"1\" class=\"dataframe\"><thead><tr><th>Locale</th><th>RecordedAt</th><th>RecordedFor</th><th>Min</th><th>Max</th></tr><tr><td>str</td><td>datetime[μs, Pacific/Auckland]</td><td>date</td><td>decimal[38,0]</td><td>decimal[38,0]</td></tr></thead><tbody><tr><td>&quot;Siroccoscape&quot;</td><td>null</td><td>2025-03-29</td><td>null</td><td>null</td></tr><tr><td>&quot;Fydoro Folly&quot;</td><td>2025-03-30 08:15:48.826514 NZDT</td><td>2025-03-29</td><td>null</td><td>null</td></tr><tr><td>&quot;Fydoro Folly&quot;</td><td>2025-03-30 09:57:05.770927 NZDT</td><td>2025-03-29</td><td>null</td><td>null</td></tr><tr><td>&quot;Wivenhoe Garden Portico&quot;</td><td>2025-03-30 08:16:30.999016 NZDT</td><td>2025-03-29</td><td>null</td><td>null</td></tr><tr><td>&quot;Wivenhoe Garden Portico&quot;</td><td>2025-03-30 09:57:21.769332 NZDT</td><td>2025-03-29</td><td>null</td><td>null</td></tr></tbody></table></div>"
      ]
     },
     "execution_count": 25,
     "metadata": {},
     "output_type": "execute_result"
    }
   ],
   "execution_count": 25
  },
  {
   "metadata": {},
   "cell_type": "code",
   "outputs": [],
   "execution_count": null,
   "source": "",
   "id": "12dde3abee913c9d"
  }
 ],
 "metadata": {
  "kernelspec": {
   "display_name": "Python 3",
   "language": "python",
   "name": "python3"
  },
  "language_info": {
   "codemirror_mode": {
    "name": "ipython",
    "version": 2
   },
   "file_extension": ".py",
   "mimetype": "text/x-python",
   "name": "python",
   "nbconvert_exporter": "python",
   "pygments_lexer": "ipython2",
   "version": "2.7.6"
  }
 },
 "nbformat": 4,
 "nbformat_minor": 5
}
